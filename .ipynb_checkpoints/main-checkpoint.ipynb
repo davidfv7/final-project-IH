{
 "cells": [
  {
   "cell_type": "code",
   "execution_count": 5,
   "metadata": {},
   "outputs": [],
   "source": [
    "import http.client as httpc\n",
    "import pandas as pd\n",
    "from time import sleep\n",
    "from os import listdir\n",
    "from os.path import isfile, join\n",
    "import json\n",
    "from pandas.io.json import json_normalize\n",
    "import xml.etree.ElementTree as etree\n",
    "\n"
   ]
  },
  {
   "cell_type": "code",
   "execution_count": 9,
   "metadata": {},
   "outputs": [],
   "source": [
    "#Getting the data \n",
    "#keys sin usar -> n733sauhrzbgrdbtmvpfsc3j\n",
    "key = 'n733sauhrzbgrdbtmvpfsc3j'\n",
    "#keys usadas sin acabar requests ->56wdcu74swe2r7kxh3y6s2qt, n3jyqcapgjg3qpynuseddbja, ccv6c25hkraa8h4z5hkraqeq\n",
    "#agotadas = f8t3z48mkpmstj5yjaqvm47y\n",
    "#conn = httpc.HTTPSConnection(\"api.sportradar.us\")\n",
    "\n",
    "#conn.request(\"GET\", \"/nfl/official/trial/v5/en/games/2019/reg/schedule.json?api_key=\"+key)\n",
    "\n",
    "#res = conn.getresponse()\n",
    "#data = res.read()\n",
    "\n"
   ]
  },
  {
   "cell_type": "code",
   "execution_count": 15,
   "metadata": {},
   "outputs": [],
   "source": [
    "#games id fetch\n",
    "#conn = httpc.HTTPSConnection(\"api.sportradar.us\")\n",
    "\n",
    "#conn.request(\"GET\", \"/nfl/official/trial/v5/en/games/2000/reg/schedule.xml?api_key=\"+key)\n",
    "\n",
    "#res = conn.getresponse()\n",
    "#data = res.read()\n"
   ]
  },
  {
   "cell_type": "code",
   "execution_count": 226,
   "metadata": {},
   "outputs": [],
   "source": [
    "root = etree.fromstring(data)\n",
    "tree = etree.ElementTree(root)\n",
    "root2 = tree.getroot()\n",
    "games = list()\n",
    "for node in root2: \n",
    "    for node2 in node:\n",
    "        games.append(node2.attrib)\n",
    "        \n",
    "    \n",
    "games = json_normalize(games)\n",
    "games.to_csv(r\"regGames/games2000reg.csv\")\n"
   ]
  },
  {
   "cell_type": "code",
   "execution_count": 3,
   "metadata": {},
   "outputs": [
    {
     "data": {
      "text/plain": [
       "['games2000reg.csv', 'games2001reg.csv', 'games2002reg.csv']"
      ]
     },
     "execution_count": 3,
     "metadata": {},
     "output_type": "execute_result"
    }
   ],
   "source": [
    "onlyfiles = [f for f in listdir(\"regGames\") if isfile(join(\"regGames\", f))]\n",
    "onlyfiles"
   ]
  },
  {
   "cell_type": "code",
   "execution_count": 16,
   "metadata": {},
   "outputs": [
    {
     "data": {
      "text/plain": [
       "'\\n\\nconn.request(\"GET\", \"/nfl/official/trial/v5/en/games/\"+030d37cf-b896-4f10-b16e-2a5120fef6cf+\"/statistics.xml?api_key=\"+key)\\n\\nres = conn.getresponse()\\ndata = res.read()\\n\\nconn = httpc.HTTPSConnection(\"api.sportradar.us\")\\nfor file in onlyfiles:\\n    games= pd.read_csv(\\'regGames/\\'+file)\\n    name = file.split(\".\")\\n    for index, row in games.iterrows():\\n        url = \"/nfl/official/trial/v5/en/games/\"+row[\\'id\\']+\"/statistics.xml?api_key=\"+key\\n        conn.request(\"GET\", url)\\n        res = conn.getresponse()\\n        data = res.read()\\n        root = etree.fromstring(data)\\n        tree = etree.ElementTree(root)\\n        root2 = tree.getroot()\\n        game = list()\\n        for node in root2: \\n                game.append(node.attrib)\\n        game = json_normalize(game)\\n        #game.to_csv(\"gameStatistics/game\"+str(index)+\"statistics-\"+name[0]+\".csv\")\\n        #sleep(1)\\n        break'"
      ]
     },
     "execution_count": 16,
     "metadata": {},
     "output_type": "execute_result"
    }
   ],
   "source": [
    "#games info fetch fetch\n",
    "\n",
    "\n",
    "'''\n",
    "\n",
    "conn.request(\"GET\", \"/nfl/official/trial/v5/en/games/\"+030d37cf-b896-4f10-b16e-2a5120fef6cf+\"/statistics.xml?api_key=\"+key)\n",
    "\n",
    "res = conn.getresponse()\n",
    "data = res.read()'''\n",
    "\n",
    "conn = httpc.HTTPSConnection(\"api.sportradar.us\")\n",
    "for file in onlyfiles:\n",
    "    games= pd.read_csv('regGames/'+file)\n",
    "    name = file.split(\".\")\n",
    "    for index, row in games.iterrows():\n",
    "        url = \"/nfl/official/trial/v5/en/games/\"+row['id']+\"/statistics.xml?api_key=\"+key\n",
    "        conn.request(\"GET\", url)\n",
    "        res = conn.getresponse()\n",
    "        data = res.read()\n",
    "        root = etree.fromstring(data)\n",
    "        tree = etree.ElementTree(root)\n",
    "        root2 = tree.getroot()\n",
    "        game = list()\n",
    "        for node in root2: \n",
    "                game.append(node.attrib)\n",
    "        game = json_normalize(game)\n",
    "        #game.to_csv(\"gameStatistics/game\"+str(index)+\"statistics-\"+name[0]+\".csv\")\n",
    "        #sleep(1)\n",
    "        break\n",
    "     "
   ]
  },
  {
   "cell_type": "code",
   "execution_count": 47,
   "metadata": {},
   "outputs": [
    {
     "data": {
      "text/html": [
       "<div>\n",
       "<style scoped>\n",
       "    .dataframe tbody tr th:only-of-type {\n",
       "        vertical-align: middle;\n",
       "    }\n",
       "\n",
       "    .dataframe tbody tr th {\n",
       "        vertical-align: top;\n",
       "    }\n",
       "\n",
       "    .dataframe thead th {\n",
       "        text-align: right;\n",
       "    }\n",
       "</style>\n",
       "<table border=\"1\" class=\"dataframe\">\n",
       "  <thead>\n",
       "    <tr style=\"text-align: right;\">\n",
       "      <th></th>\n",
       "      <th>alias</th>\n",
       "      <th>id</th>\n",
       "      <th>market</th>\n",
       "      <th>name</th>\n",
       "      <th>points</th>\n",
       "      <th>reference</th>\n",
       "      <th>remaining_timeouts</th>\n",
       "      <th>sr_id</th>\n",
       "      <th>team</th>\n",
       "      <th>used_timeouts</th>\n",
       "    </tr>\n",
       "  </thead>\n",
       "  <tbody>\n",
       "    <tr>\n",
       "      <th>0</th>\n",
       "      <td>NO</td>\n",
       "      <td>0d855753-ea21-4953-89f9-0e20aff9eb73</td>\n",
       "      <td>New Orleans</td>\n",
       "      <td>Saints</td>\n",
       "      <td>10</td>\n",
       "      <td>145</td>\n",
       "      <td>0</td>\n",
       "      <td>sr:competitor:4425</td>\n",
       "      <td>home</td>\n",
       "      <td>3</td>\n",
       "    </tr>\n",
       "    <tr>\n",
       "      <th>1</th>\n",
       "      <td>DET</td>\n",
       "      <td>c5a59daa-53a7-4de0-851f-fb12be893e9e</td>\n",
       "      <td>Detroit</td>\n",
       "      <td>Lions</td>\n",
       "      <td>14</td>\n",
       "      <td>137</td>\n",
       "      <td>2</td>\n",
       "      <td>sr:competitor:4419</td>\n",
       "      <td>away</td>\n",
       "      <td>1</td>\n",
       "    </tr>\n",
       "  </tbody>\n",
       "</table>\n",
       "</div>"
      ],
      "text/plain": [
       "  alias                                    id       market    name points  \\\n",
       "0    NO  0d855753-ea21-4953-89f9-0e20aff9eb73  New Orleans  Saints     10   \n",
       "1   DET  c5a59daa-53a7-4de0-851f-fb12be893e9e      Detroit   Lions     14   \n",
       "\n",
       "  reference remaining_timeouts               sr_id  team used_timeouts  \n",
       "0       145                  0  sr:competitor:4425  home             3  \n",
       "1       137                  2  sr:competitor:4419  away             1  "
      ]
     },
     "execution_count": 47,
     "metadata": {},
     "output_type": "execute_result"
    }
   ],
   "source": [
    "conn = httpc.HTTPSConnection(\"api.sportradar.us\")\n",
    "for file in onlyfiles:\n",
    "    games= pd.read_csv('regGames/'+file)\n",
    "    name = file.split(\".\")\n",
    "    for index, row in games.iterrows():\n",
    "        url = \"/nfl/official/trial/v5/en/games/\"+row['id']+\"/boxscore.xml?api_key=\"+key\n",
    "        conn.request(\"GET\", url)\n",
    "        res = conn.getresponse()\n",
    "        data = res.read()\n",
    "        \n",
    "        root = etree.fromstring(data)\n",
    "        tree = etree.ElementTree(root)\n",
    "        root2 = tree.getroot()\n",
    "        game = list()\n",
    "       \n",
    "        for node in root2: \n",
    "                \n",
    "                for node in root2: \n",
    "                    for node2 in node:\n",
    "                        \n",
    "                        if(\"home\" in node2.tag or \"away\" in node2.tag):\n",
    "                            if(\"home\" in node2.tag):\n",
    "                                node2.attrib[\"team\"] = \"home\"\n",
    "                            else:\n",
    "                                node2.attrib[\"team\"] = \"away\"\n",
    "                            game.append(node2.attrib)\n",
    "                            \n",
    "                    \n",
    "        \n",
    "        game = json_normalize(game)\n",
    "        game = game.drop_duplicates(subset=['points'], keep='first')\n",
    "\n",
    "        game.to_csv(\"gameScores/game\"+str(index)+\"scores-\"+name[0]+\".csv\")\n",
    "        \n",
    "\n",
    "\n",
    "     "
   ]
  },
  {
   "cell_type": "code",
   "execution_count": null,
   "metadata": {},
   "outputs": [],
   "source": []
  }
 ],
 "metadata": {
  "kernelspec": {
   "display_name": "Python 3",
   "language": "python",
   "name": "python3"
  },
  "language_info": {
   "codemirror_mode": {
    "name": "ipython",
    "version": 3
   },
   "file_extension": ".py",
   "mimetype": "text/x-python",
   "name": "python",
   "nbconvert_exporter": "python",
   "pygments_lexer": "ipython3",
   "version": "3.7.3"
  }
 },
 "nbformat": 4,
 "nbformat_minor": 2
}
