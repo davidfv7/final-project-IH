{
 "cells": [
  {
   "cell_type": "code",
   "execution_count": 2,
   "metadata": {},
   "outputs": [],
   "source": [
    "import pandas as pd\n",
    "import numpy as np\n",
    "import scipy\n",
    "from sklearn import metrics\n",
    "import matplotlib.pyplot as plt\n",
    "from sklearn.linear_model import LinearRegression\n",
    "from sklearn.linear_model import LogisticRegression\n",
    "from sklearn.model_selection import train_test_split\n",
    "from sklearn.metrics import r2_score\n",
    "from sklearn.preprocessing  import LabelEncoder\n",
    "from sklearn.ensemble import RandomForestClassifier\n",
    "from sklearn.naive_bayes import GaussianNB\n",
    "from sklearn.metrics import confusion_matrix\n",
    "from sklearn.feature_extraction.text import TfidfVectorizer\n",
    "from sklearn.naive_bayes import GaussianNB\n",
    "from sklearn import tree\n",
    "from sklearn.metrics import accuracy_score\n",
    "from sklearn.multioutput import MultiOutputClassifier\n",
    "from sklearn.metrics import roc_auc_score"
   ]
  },
  {
   "cell_type": "code",
   "execution_count": 16,
   "metadata": {},
   "outputs": [],
   "source": [
    "games2000 = pd.read_csv(\"final/gamesFinal2000.csv\")\n",
    "games2001 = pd.read_csv(\"final/gamesFinal2001.csv\")\n",
    "games2002 = pd.read_csv(\"final/gamesFinal2002.csv\")\n",
    "games2003 = pd.read_csv(\"final/gamesFinal2002.csv\")\n",
    "games2004 = pd.read_csv(\"final/gamesFinal2004.csv\")\n",
    "games2005 = pd.read_csv(\"final/gamesFinal2005.csv\")\n",
    "games2006 = pd.read_csv(\"final/gamesFinal2006.csv\")\n",
    "games2007 = pd.read_csv(\"final/gamesFinal2007.csv\")\n",
    "games2008 = pd.read_csv(\"final/gamesFinal2008.csv\")"
   ]
  },
  {
   "cell_type": "code",
   "execution_count": 17,
   "metadata": {},
   "outputs": [],
   "source": [
    "def changeMinutesToSeconds(row):\n",
    "    away = row[\"possession_time_away_team\"].split(\":\")\n",
    "    away_seconds = (int(away[0])*60)+int(away[1])\n",
    "    \n",
    "    home = row[\"possession_time_home_team\"].split(\":\")\n",
    "    home_seconds = (int(home[0])*60)+int(home[1])\n",
    "    \n",
    "    row[\"possession_time_away_team\"] = away_seconds\n",
    "    row[\"possession_time_home_team\"] = home_seconds\n",
    "    return row\n",
    "\n",
    "games2000_time =  games2000.apply(changeMinutesToSeconds, axis=1)\n",
    "games2001_time =  games2001.apply(changeMinutesToSeconds, axis=1)\n",
    "games2002_time =  games2002.apply(changeMinutesToSeconds, axis=1)\n",
    "games2003_time =  games2003.apply(changeMinutesToSeconds, axis=1)\n",
    "games2004_time =  games2004.apply(changeMinutesToSeconds, axis=1)\n",
    "games2005_time =  games2005.apply(changeMinutesToSeconds, axis=1)\n",
    "games2006_time =  games2006.apply(changeMinutesToSeconds, axis=1)\n",
    "games2007_time =  games2007.apply(changeMinutesToSeconds, axis=1)\n",
    "games2008_time =  games2008.apply(changeMinutesToSeconds, axis=1)"
   ]
  },
  {
   "cell_type": "code",
   "execution_count": 18,
   "metadata": {},
   "outputs": [],
   "source": [
    "\n",
    "games2000_clean = games2000_time.drop([\"market_home_team\",\"market_away_team\",\"index_away_team\",\"index_home_team\",\"Unnamed: 0\",\"Unnamed: 0.1_away_team\",\"Unnamed: 0.1_home_team\", \"Unnamed: 0_away_team\",\"Unnamed: 0_home_team\", \"id_home_team\", \"id_away_team\",\n",
    "                                 \"sr_id.1_home_team\",\"reference.1_home_team\",\"sr_id.1_away_team\",\"reference.1_away_team\", \"sr_id_away_team\", \"sr_id_home_team\",\n",
    "                                 ], axis=1)\n",
    "games2001_clean = games2001_time.drop([\"market_home_team\",\"market_away_team\",\"index_away_team\",\"index_home_team\",\"Unnamed: 0\",\"Unnamed: 0.1_away_team\",\"Unnamed: 0.1_home_team\", \"Unnamed: 0_away_team\",\"Unnamed: 0_home_team\", \"id_home_team\", \"id_away_team\",\n",
    "                                 \"sr_id.1_home_team\",\"reference.1_home_team\",\"sr_id.1_away_team\",\"reference.1_away_team\", \"sr_id_away_team\", \"sr_id_home_team\",\n",
    "                                 ], axis=1)\n",
    "games2002_clean = games2002_time.drop([\"market_home_team\",\"market_away_team\",\"index_away_team\",\"index_home_team\",\"Unnamed: 0\",\"Unnamed: 0.1_away_team\",\"Unnamed: 0.1_home_team\", \"Unnamed: 0_away_team\",\"Unnamed: 0_home_team\", \"id_home_team\", \"id_away_team\",\n",
    "                                 \"sr_id.1_home_team\",\"reference.1_home_team\",\"sr_id.1_away_team\",\"reference.1_away_team\", \"sr_id_away_team\", \"sr_id_home_team\",\n",
    "                                 ], axis=1)\n",
    "games2003_clean = games2003_time.drop([\"market_home_team\",\"market_away_team\",\"index_away_team\",\"index_home_team\",\"Unnamed: 0\",\"Unnamed: 0.1_away_team\",\"Unnamed: 0.1_home_team\", \"Unnamed: 0_away_team\",\"Unnamed: 0_home_team\", \"id_home_team\", \"id_away_team\",\n",
    "                                 \"sr_id.1_home_team\",\"reference.1_home_team\",\"sr_id.1_away_team\",\"reference.1_away_team\", \"sr_id_away_team\", \"sr_id_home_team\",\n",
    "                                 ], axis=1)\n",
    "games2004_clean = games2004_time.drop([\"market_home_team\",\"market_away_team\",\"index_away_team\",\"index_home_team\",\"Unnamed: 0\",\"Unnamed: 0.1_away_team\",\"Unnamed: 0.1_home_team\", \"Unnamed: 0_away_team\",\"Unnamed: 0_home_team\", \"id_home_team\", \"id_away_team\",\n",
    "                                 \"sr_id.1_home_team\",\"reference.1_home_team\",\"sr_id.1_away_team\",\"reference.1_away_team\", \"sr_id_away_team\", \"sr_id_home_team\",\n",
    "                                 ], axis=1)\n",
    "games2005_clean = games2005_time.drop([\"market_home_team\",\"market_away_team\",\"index_away_team\",\"index_home_team\",\"Unnamed: 0\",\"Unnamed: 0.1_away_team\",\"Unnamed: 0.1_home_team\", \"Unnamed: 0_away_team\",\"Unnamed: 0_home_team\", \"id_home_team\", \"id_away_team\",\n",
    "                                 \"sr_id.1_home_team\",\"reference.1_home_team\",\"sr_id.1_away_team\",\"reference.1_away_team\", \"sr_id_away_team\", \"sr_id_home_team\",\n",
    "                                 ], axis=1)\n",
    "games2006_clean = games2005_time.drop([\"market_home_team\",\"market_away_team\",\"index_away_team\",\"index_home_team\",\"Unnamed: 0\",\"Unnamed: 0.1_away_team\",\"Unnamed: 0.1_home_team\", \"Unnamed: 0_away_team\",\"Unnamed: 0_home_team\", \"id_home_team\", \"id_away_team\",\n",
    "                                 \"sr_id.1_home_team\",\"reference.1_home_team\",\"sr_id.1_away_team\",\"reference.1_away_team\", \"sr_id_away_team\", \"sr_id_home_team\",\n",
    "                                 ], axis=1)\n",
    "games2007_clean = games2005_time.drop([\"market_home_team\",\"market_away_team\",\"index_away_team\",\"index_home_team\",\"Unnamed: 0\",\"Unnamed: 0.1_away_team\",\"Unnamed: 0.1_home_team\", \"Unnamed: 0_away_team\",\"Unnamed: 0_home_team\", \"id_home_team\", \"id_away_team\",\n",
    "                                 \"sr_id.1_home_team\",\"reference.1_home_team\",\"sr_id.1_away_team\",\"reference.1_away_team\", \"sr_id_away_team\", \"sr_id_home_team\",\n",
    "                                 ], axis=1)\n",
    "games2008_clean = games2005_time.drop([\"market_home_team\",\"market_away_team\",\"index_away_team\",\"index_home_team\",\"Unnamed: 0\",\"Unnamed: 0.1_away_team\",\"Unnamed: 0.1_home_team\", \"Unnamed: 0_away_team\",\"Unnamed: 0_home_team\", \"id_home_team\", \"id_away_team\",\n",
    "                                 \"sr_id.1_home_team\",\"reference.1_home_team\",\"sr_id.1_away_team\",\"reference.1_away_team\", \"sr_id_away_team\", \"sr_id_home_team\",\n",
    "                                 ], axis=1)"
   ]
  },
  {
   "cell_type": "code",
   "execution_count": 19,
   "metadata": {},
   "outputs": [],
   "source": [
    "games_comp =  pd.concat([games2000_clean, games2001_clean, games2002_clean, games2003_clean, games2004_clean, games2005_clean, games2006_clean, games2007_clean, games2008_clean], axis=0, sort=False)\n",
    "games_comp = games_comp.reset_index()"
   ]
  },
  {
   "cell_type": "code",
   "execution_count": 20,
   "metadata": {},
   "outputs": [
    {
     "data": {
      "text/plain": [
       "Index(['index', 'alias_away_team', 'alias_home_team', 'avg_gain_away_team',\n",
       "       'avg_gain_home_team', 'fumbles_away_team', 'fumbles_home_team',\n",
       "       'lost_fumbles_away_team', 'lost_fumbles_home_team', 'name_away_team',\n",
       "       'name_home_team', 'penalties_away_team', 'penalties_home_team',\n",
       "       'penalty_yards_away_team', 'penalty_yards_home_team',\n",
       "       'play_count_away_team', 'play_count_home_team', 'points_away_team',\n",
       "       'points_home_team', 'possession_time_away_team',\n",
       "       'possession_time_home_team', 'reference_away_team',\n",
       "       'reference_home_team', 'remaining_timeouts_away_team',\n",
       "       'remaining_timeouts_home_team', 'return_yards_away_team',\n",
       "       'return_yards_home_team', 'rush_plays_away_team',\n",
       "       'rush_plays_home_team', 'safeties_away_team', 'safeties_home_team',\n",
       "       'total_yards_away_team', 'total_yards_home_team', 'turnovers_away_team',\n",
       "       'turnovers_home_team', 'used_timeouts_away_team',\n",
       "       'used_timeouts_home_team', 'winner'],\n",
       "      dtype='object')"
      ]
     },
     "execution_count": 20,
     "metadata": {},
     "output_type": "execute_result"
    }
   ],
   "source": [
    "games_comp.columns"
   ]
  },
  {
   "cell_type": "code",
   "execution_count": 21,
   "metadata": {},
   "outputs": [],
   "source": [
    "X = games_comp.drop(['index','name_home_team','name_away_team','play_count_away_team','fumbles_home_team','reference_away_team','reference_home_team','used_timeouts_home_team',\"points_away_team\",\"points_home_team\",'return_yards_away_team','turnovers_home_team','rush_plays_away_team','possession_time_away_team',\"winner\"], axis=1)\n",
    "X = pd.get_dummies(X, columns=['alias_away_team','alias_home_team'], drop_first=True)\n",
    "y = games_comp[[\"points_home_team\",\"points_away_team\"]]\n",
    "X_train, X_test, y_train, y_test = train_test_split(X, y, test_size=0.2)"
   ]
  },
  {
   "cell_type": "code",
   "execution_count": 22,
   "metadata": {},
   "outputs": [
    {
     "name": "stdout",
     "output_type": "stream",
     "text": [
      "correct matches: 126\n"
     ]
    }
   ],
   "source": [
    "model = tree.DecisionTreeClassifier()\n",
    "model.fit(X_train, y_train)\n",
    "y_pred = model.predict(X_test)\n",
    "\n",
    "def addWinner(row):\n",
    "    if row[\"points_home_team\"] > row[\"points_away_team\"]:\n",
    "        row[\"winner\"] = \"home\"\n",
    "    elif row[\"points_home_team\"] < row[\"points_away_team\"]:\n",
    "        row[\"winner\"] = \"away\"\n",
    "    else:\n",
    "        row[\"winner\"] = \"tie\"\n",
    "    return row\n",
    "x = pd.DataFrame(data= y_pred, columns =[\"points_home_team\",\"points_away_team\"])\n",
    "x =  x.apply(addWinner, axis=1)\n",
    "\n",
    "compare = pd.DataFrame(data= games2000_clean[\"winner\"], columns=[\"winner\"])\n",
    "compare =compare.rename(columns={\"winner\": \"winner_true\"})\n",
    "result = pd.concat([compare, x], axis=1, sort=False)\n",
    "correct = 0\n",
    "for i, row in result.iterrows():\n",
    "    if row[\"winner\"] == row[\"winner_true\"]:\n",
    "        correct = correct+1\n",
    "        \n",
    "print(\"correct matches: %d\" % correct)"
   ]
  },
  {
   "cell_type": "code",
   "execution_count": null,
   "metadata": {},
   "outputs": [],
   "source": []
  },
  {
   "cell_type": "code",
   "execution_count": null,
   "metadata": {},
   "outputs": [],
   "source": []
  }
 ],
 "metadata": {
  "kernelspec": {
   "display_name": "Python 3",
   "language": "python",
   "name": "python3"
  },
  "language_info": {
   "codemirror_mode": {
    "name": "ipython",
    "version": 3
   },
   "file_extension": ".py",
   "mimetype": "text/x-python",
   "name": "python",
   "nbconvert_exporter": "python",
   "pygments_lexer": "ipython3",
   "version": "3.7.3"
  }
 },
 "nbformat": 4,
 "nbformat_minor": 2
}
